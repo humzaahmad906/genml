{
 "cells": [
  {
   "cell_type": "code",
   "execution_count": 3,
   "metadata": {
    "collapsed": true,
    "pycharm": {
     "name": "#%%\n"
    }
   },
   "outputs": [
    {
     "name": "stdout",
     "output_type": "stream",
     "text": [
      "Collecting package metadata (current_repodata.json): done\r\n",
      "Solving environment: failed with initial frozen solve. Retrying with flexible solve.\r\n",
      "Solving environment: failed with repodata from current_repodata.json, will retry with next repodata source.\r\n",
      "Collecting package metadata (repodata.json): done\r\n",
      "Solving environment: failed with initial frozen solve. Retrying with flexible solve.\r\n",
      "Solving environment: / \r\n",
      "Found conflicts! Looking for incompatible packages.\r\n",
      "This can take several minutes.  Press CTRL-C to abort.\r\n",
      "failed                                                                        \r\n",
      "\r\n",
      "UnsatisfiableError: The following specifications were found\r\n",
      "to be incompatible with the existing python installation in your environment:\r\n",
      "\r\n",
      "Specifications:\r\n",
      "\r\n",
      "  - faiss-cpu -> python[version='>=2.7,<2.8.0a0|>=3.5,<3.6.0a0|>=3.6,<3.7.0a0|>=3.8,<3.9.0a0|>=3.7,<3.8.0a0']\r\n",
      "\r\n",
      "Your python: python=3.9\r\n",
      "\r\n",
      "If python is on the left-most side of the chain, that's the version you've asked for.\r\n",
      "When python appears to the right, that indicates that the thing on the left is somehow\r\n",
      "not available for the python version you are constrained to. Note that conda will not\r\n",
      "change your python version to a different minor version unless you explicitly specify\r\n",
      "that.\r\n",
      "\r\n",
      "The following specifications were found to be incompatible with your system:\r\n",
      "\r\n",
      "  - feature:/linux-64::__glibc==2.35=0\r\n",
      "  - faiss-cpu -> libgcc-ng[version='>=9.3.0'] -> __glibc[version='>=2.17']\r\n",
      "  - python=3.9 -> libgcc-ng[version='>=7.5.0'] -> __glibc[version='>=2.17']\r\n",
      "\r\n",
      "Your installed version is: 2.35\r\n",
      "\r\n",
      "\r\n"
     ]
    }
   ],
   "source": [
    "!conda install -c pytorch faiss-cpu"
   ]
  },
  {
   "cell_type": "code",
   "execution_count": 4,
   "outputs": [
    {
     "ename": "ImportError",
     "evalue": "cannot import name 'clustering' from 'faiss.contrib' (/home/humza/miniconda3/lib/python3.9/site-packages/faiss/contrib/__init__.py)",
     "output_type": "error",
     "traceback": [
      "\u001B[0;31m---------------------------------------------------------------------------\u001B[0m",
      "\u001B[0;31mImportError\u001B[0m                               Traceback (most recent call last)",
      "Input \u001B[0;32mIn [4]\u001B[0m, in \u001B[0;36m<cell line: 2>\u001B[0;34m()\u001B[0m\n\u001B[1;32m      1\u001B[0m \u001B[38;5;28;01mimport\u001B[39;00m \u001B[38;5;21;01mfaiss\u001B[39;00m\n\u001B[0;32m----> 2\u001B[0m \u001B[38;5;28;01mfrom\u001B[39;00m \u001B[38;5;21;01mfaiss\u001B[39;00m\u001B[38;5;21;01m.\u001B[39;00m\u001B[38;5;21;01mcontrib\u001B[39;00m \u001B[38;5;28;01mimport\u001B[39;00m datasets, clustering\n",
      "\u001B[0;31mImportError\u001B[0m: cannot import name 'clustering' from 'faiss.contrib' (/home/humza/miniconda3/lib/python3.9/site-packages/faiss/contrib/__init__.py)"
     ]
    }
   ],
   "source": [
    "import faiss\n",
    "from faiss.contrib import datasets, clustering"
   ],
   "metadata": {
    "collapsed": false,
    "pycharm": {
     "name": "#%%\n"
    }
   }
  },
  {
   "cell_type": "code",
   "execution_count": null,
   "outputs": [],
   "source": [
    "ds = datasets.SyntheticDataset(128, 1000000, 10000, 1000)\n",
    "print(ds)"
   ],
   "metadata": {
    "collapsed": false,
    "pycharm": {
     "name": "#%%\n"
    }
   }
  },
  {
   "cell_type": "code",
   "execution_count": null,
   "outputs": [],
   "source": [
    "index2 = faiss.index_factory(128, \"PCA64,IVF16384_HNSW32,Flat\")"
   ],
   "metadata": {
    "collapsed": false,
    "pycharm": {
     "name": "#%%\n"
    }
   }
  },
  {
   "cell_type": "code",
   "execution_count": null,
   "outputs": [],
   "source": [
    "%%time\n",
    "# two-level clustering\n",
    "clustering.train_ivf_index_with_2level(index2, ds.get_train())"
   ],
   "metadata": {
    "collapsed": false,
    "pycharm": {
     "name": "#%%\n"
    }
   }
  },
  {
   "cell_type": "code",
   "execution_count": null,
   "outputs": [],
   "source": [
    "index2.add(ds.get_database())"
   ],
   "metadata": {
    "collapsed": false,
    "pycharm": {
     "name": "#%%\n"
    }
   }
  },
  {
   "cell_type": "code",
   "execution_count": null,
   "outputs": [],
   "source": [
    "# perform search\n",
    "faiss.ParameterSpace().set_index_parameter(index2, \"nprobe\", 64)\n",
    "D, I = index2.search(ds.get_queries(), 100)\n",
    "\n",
    "# evaluate\n",
    "gt = ds.get_groundtruth()\n",
    "for rank in 1, 10, 100:\n",
    "    recall = (I[:, :rank] == gt[:, :1]).sum() / ds.nq\n",
    "    print(f\"R@{rank}={recall}\")"
   ],
   "metadata": {
    "collapsed": false,
    "pycharm": {
     "name": "#%%\n"
    }
   }
  }
 ],
 "metadata": {
  "kernelspec": {
   "display_name": "Python 3",
   "language": "python",
   "name": "python3"
  },
  "language_info": {
   "codemirror_mode": {
    "name": "ipython",
    "version": 2
   },
   "file_extension": ".py",
   "mimetype": "text/x-python",
   "name": "python",
   "nbconvert_exporter": "python",
   "pygments_lexer": "ipython2",
   "version": "2.7.6"
  }
 },
 "nbformat": 4,
 "nbformat_minor": 0
}