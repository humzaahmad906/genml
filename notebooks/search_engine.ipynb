{
 "cells": [
  {
   "cell_type": "code",
   "execution_count": 3,
   "metadata": {
    "collapsed": true,
    "pycharm": {
     "name": "#%%\n"
    }
   },
   "outputs": [
    {
     "name": "stdout",
     "output_type": "stream",
     "text": [
      "Collecting farm-haystack\r\n",
      "  Using cached farm_haystack-1.6.0-py3-none-any.whl (596 kB)\r\n",
      "Collecting more-itertools\r\n",
      "  Downloading more_itertools-8.13.0-py3-none-any.whl (51 kB)\r\n",
      "\u001B[K     |████████████████████████████████| 51 kB 85 kB/s  eta 0:00:01\r\n",
      "\u001B[?25hCollecting sentence-transformers>=2.2.0\r\n",
      "  Using cached sentence-transformers-2.2.2.tar.gz (85 kB)\r\n",
      "Requirement already satisfied: jsonschema in /home/humza/miniconda3/lib/python3.9/site-packages (from farm-haystack) (4.9.0)\r\n",
      "Collecting python-docx\r\n",
      "  Downloading python-docx-0.8.11.tar.gz (5.6 MB)\r\n",
      "\u001B[K     |████████████████████████████████| 5.6 MB 291 kB/s eta 0:00:01\r\n",
      "\u001B[?25hCollecting torch<1.13,>1.9\r\n",
      "  Downloading torch-1.12.1-cp39-cp39-manylinux1_x86_64.whl (776.4 MB)\r\n",
      "\u001B[K     |███▍                            | 83.3 MB 246 kB/s eta 0:46:481:51:376    |██                              | 49.9 MB 478 kB/s eta 0:25:18\u001B[31mERROR: Exception:\r\n",
      "Traceback (most recent call last):\r\n",
      "  File \"/home/humza/miniconda3/lib/python3.9/site-packages/pip/_vendor/urllib3/response.py\", line 438, in _error_catcher\r\n",
      "    yield\r\n",
      "  File \"/home/humza/miniconda3/lib/python3.9/site-packages/pip/_vendor/urllib3/response.py\", line 519, in read\r\n",
      "    data = self._fp.read(amt) if not fp_closed else b\"\"\r\n",
      "  File \"/home/humza/miniconda3/lib/python3.9/site-packages/pip/_vendor/cachecontrol/filewrapper.py\", line 62, in read\r\n",
      "    data = self.__fp.read(amt)\r\n",
      "  File \"/home/humza/miniconda3/lib/python3.9/http/client.py\", line 463, in read\r\n",
      "    n = self.readinto(b)\r\n",
      "  File \"/home/humza/miniconda3/lib/python3.9/http/client.py\", line 507, in readinto\r\n",
      "    n = self.fp.readinto(b)\r\n",
      "  File \"/home/humza/miniconda3/lib/python3.9/socket.py\", line 704, in readinto\r\n",
      "    return self._sock.recv_into(b)\r\n",
      "  File \"/home/humza/miniconda3/lib/python3.9/ssl.py\", line 1241, in recv_into\r\n",
      "    return self.read(nbytes, buffer)\r\n",
      "  File \"/home/humza/miniconda3/lib/python3.9/ssl.py\", line 1099, in read\r\n",
      "    return self._sslobj.read(len, buffer)\r\n",
      "socket.timeout: The read operation timed out\r\n",
      "\r\n",
      "During handling of the above exception, another exception occurred:\r\n",
      "\r\n",
      "Traceback (most recent call last):\r\n",
      "  File \"/home/humza/miniconda3/lib/python3.9/site-packages/pip/_internal/cli/base_command.py\", line 173, in _main\r\n",
      "    status = self.run(options, args)\r\n",
      "  File \"/home/humza/miniconda3/lib/python3.9/site-packages/pip/_internal/cli/req_command.py\", line 203, in wrapper\r\n",
      "    return func(self, options, args)\r\n",
      "  File \"/home/humza/miniconda3/lib/python3.9/site-packages/pip/_internal/commands/install.py\", line 315, in run\r\n",
      "    requirement_set = resolver.resolve(\r\n",
      "  File \"/home/humza/miniconda3/lib/python3.9/site-packages/pip/_internal/resolution/resolvelib/resolver.py\", line 94, in resolve\r\n",
      "    result = self._result = resolver.resolve(\r\n",
      "  File \"/home/humza/miniconda3/lib/python3.9/site-packages/pip/_vendor/resolvelib/resolvers.py\", line 472, in resolve\r\n",
      "    state = resolution.resolve(requirements, max_rounds=max_rounds)\r\n",
      "  File \"/home/humza/miniconda3/lib/python3.9/site-packages/pip/_vendor/resolvelib/resolvers.py\", line 366, in resolve\r\n",
      "    failure_causes = self._attempt_to_pin_criterion(name)\r\n",
      "  File \"/home/humza/miniconda3/lib/python3.9/site-packages/pip/_vendor/resolvelib/resolvers.py\", line 212, in _attempt_to_pin_criterion\r\n",
      "    criteria = self._get_updated_criteria(candidate)\r\n",
      "  File \"/home/humza/miniconda3/lib/python3.9/site-packages/pip/_vendor/resolvelib/resolvers.py\", line 203, in _get_updated_criteria\r\n",
      "    self._add_to_criteria(criteria, requirement, parent=candidate)\r\n",
      "  File \"/home/humza/miniconda3/lib/python3.9/site-packages/pip/_vendor/resolvelib/resolvers.py\", line 172, in _add_to_criteria\r\n",
      "    if not criterion.candidates:\r\n",
      "  File \"/home/humza/miniconda3/lib/python3.9/site-packages/pip/_vendor/resolvelib/structs.py\", line 151, in __bool__\r\n",
      "    return bool(self._sequence)\r\n",
      "  File \"/home/humza/miniconda3/lib/python3.9/site-packages/pip/_internal/resolution/resolvelib/found_candidates.py\", line 140, in __bool__\r\n",
      "    return any(self)\r\n",
      "  File \"/home/humza/miniconda3/lib/python3.9/site-packages/pip/_internal/resolution/resolvelib/found_candidates.py\", line 128, in <genexpr>\r\n",
      "    return (c for c in iterator if id(c) not in self._incompatible_ids)\r\n",
      "  File \"/home/humza/miniconda3/lib/python3.9/site-packages/pip/_internal/resolution/resolvelib/found_candidates.py\", line 32, in _iter_built\r\n",
      "    candidate = func()\r\n",
      "  File \"/home/humza/miniconda3/lib/python3.9/site-packages/pip/_internal/resolution/resolvelib/factory.py\", line 204, in _make_candidate_from_link\r\n",
      "    self._link_candidate_cache[link] = LinkCandidate(\r\n",
      "  File \"/home/humza/miniconda3/lib/python3.9/site-packages/pip/_internal/resolution/resolvelib/candidates.py\", line 295, in __init__\r\n",
      "    super().__init__(\r\n",
      "  File \"/home/humza/miniconda3/lib/python3.9/site-packages/pip/_internal/resolution/resolvelib/candidates.py\", line 156, in __init__\r\n",
      "    self.dist = self._prepare()\r\n",
      "  File \"/home/humza/miniconda3/lib/python3.9/site-packages/pip/_internal/resolution/resolvelib/candidates.py\", line 227, in _prepare\r\n",
      "    dist = self._prepare_distribution()\r\n",
      "  File \"/home/humza/miniconda3/lib/python3.9/site-packages/pip/_internal/resolution/resolvelib/candidates.py\", line 305, in _prepare_distribution\r\n",
      "    return self._factory.preparer.prepare_linked_requirement(\r\n",
      "  File \"/home/humza/miniconda3/lib/python3.9/site-packages/pip/_internal/operations/prepare.py\", line 508, in prepare_linked_requirement\r\n",
      "    return self._prepare_linked_requirement(req, parallel_builds)\r\n",
      "  File \"/home/humza/miniconda3/lib/python3.9/site-packages/pip/_internal/operations/prepare.py\", line 550, in _prepare_linked_requirement\r\n",
      "    local_file = unpack_url(\r\n",
      "  File \"/home/humza/miniconda3/lib/python3.9/site-packages/pip/_internal/operations/prepare.py\", line 239, in unpack_url\r\n",
      "    file = get_http_url(\r\n",
      "  File \"/home/humza/miniconda3/lib/python3.9/site-packages/pip/_internal/operations/prepare.py\", line 102, in get_http_url\r\n",
      "    from_path, content_type = download(link, temp_dir.path)\r\n",
      "  File \"/home/humza/miniconda3/lib/python3.9/site-packages/pip/_internal/network/download.py\", line 145, in __call__\r\n",
      "    for chunk in chunks:\r\n",
      "  File \"/home/humza/miniconda3/lib/python3.9/site-packages/pip/_internal/cli/progress_bars.py\", line 144, in iter\r\n",
      "    for x in it:\r\n",
      "  File \"/home/humza/miniconda3/lib/python3.9/site-packages/pip/_internal/network/utils.py\", line 63, in response_chunks\r\n",
      "    for chunk in response.raw.stream(\r\n",
      "  File \"/home/humza/miniconda3/lib/python3.9/site-packages/pip/_vendor/urllib3/response.py\", line 576, in stream\r\n",
      "    data = self.read(amt=amt, decode_content=decode_content)\r\n",
      "  File \"/home/humza/miniconda3/lib/python3.9/site-packages/pip/_vendor/urllib3/response.py\", line 541, in read\r\n",
      "    raise IncompleteRead(self._fp_bytes_read, self.length_remaining)\r\n",
      "  File \"/home/humza/miniconda3/lib/python3.9/contextlib.py\", line 137, in __exit__\r\n",
      "    self.gen.throw(typ, value, traceback)\r\n",
      "  File \"/home/humza/miniconda3/lib/python3.9/site-packages/pip/_vendor/urllib3/response.py\", line 443, in _error_catcher\r\n",
      "    raise ReadTimeoutError(self._pool, None, \"Read timed out.\")\r\n",
      "pip._vendor.urllib3.exceptions.ReadTimeoutError: HTTPSConnectionPool(host='files.pythonhosted.org', port=443): Read timed out.\u001B[0m\r\n"
     ]
    }
   ],
   "source": [
    "pip install git+https://github.com/deepset-ai/haystack.git"
   ]
  },
  {
   "cell_type": "code",
   "execution_count": null,
   "outputs": [
    {
     "name": "stdout",
     "output_type": "stream",
     "text": [
      "Collecting sentence-transformers\r\n",
      "  Using cached sentence-transformers-2.2.2.tar.gz (85 kB)\r\n",
      "Collecting transformers<5.0.0,>=4.6.0\r\n",
      "  Using cached transformers-4.21.1-py3-none-any.whl (4.7 MB)\r\n",
      "Requirement already satisfied: tqdm in /home/humza/miniconda3/lib/python3.9/site-packages (from sentence-transformers) (4.63.0)\r\n",
      "Collecting torch>=1.6.0\r\n",
      "  Downloading torch-1.12.1-cp39-cp39-manylinux1_x86_64.whl (776.4 MB)\r\n",
      "\u001B[K     |████████████████▊               | 405.4 MB 151 kB/s eta 0:40:49344:37     |██▏                             | 52.3 MB 613 kB/s eta 0:19:40     |██████▌                         | 158.8 MB 1.2 MB/s eta 0:08:36     |████████████                    | 289.7 MB 1.1 MB/s eta 0:07:18"
     ]
    }
   ],
   "source": [
    "!pip install sentence-transformers\n"
   ],
   "metadata": {
    "collapsed": false,
    "pycharm": {
     "name": "#%%\n",
     "is_executing": true
    }
   }
  },
  {
   "cell_type": "code",
   "execution_count": null,
   "outputs": [],
   "source": [
    "from transformers import AutoTokenizer, pipeline\n",
    "from optimum.onnxruntime import ORTModelForQuestionAnswering\n",
    "\n",
    "model = ORTModelForQuestionAnswering.from_pretrained(\"optimum/roberta-base-squad2\") # onnx checkpoint\n",
    "tokenizer = AutoTokenizer.from_pretrained(\"deepset/roberta-base-squad2\")\n",
    "\n",
    "optimum_qa = pipeline(\"question-answering\", model=model, tokenizer=tokenizer)\n",
    "\n",
    "question = \"What's my name?\"\n",
    "context = \"My name is Philipp and I live in Nuremberg.\"\n",
    "pred = optimum_qa(question, context)\n"
   ],
   "metadata": {
    "collapsed": false,
    "pycharm": {
     "name": "#%%\n"
    }
   }
  }
 ],
 "metadata": {
  "kernelspec": {
   "display_name": "Python 3",
   "language": "python",
   "name": "python3"
  },
  "language_info": {
   "codemirror_mode": {
    "name": "ipython",
    "version": 2
   },
   "file_extension": ".py",
   "mimetype": "text/x-python",
   "name": "python",
   "nbconvert_exporter": "python",
   "pygments_lexer": "ipython2",
   "version": "2.7.6"
  }
 },
 "nbformat": 4,
 "nbformat_minor": 0
}