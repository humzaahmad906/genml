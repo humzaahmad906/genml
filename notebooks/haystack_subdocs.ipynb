{
 "cells": [
  {
   "cell_type": "code",
   "execution_count": 1,
   "metadata": {
    "collapsed": true,
    "pycharm": {
     "name": "#%%\n"
    }
   },
   "outputs": [
    {
     "name": "stdout",
     "output_type": "stream",
     "text": [
      "Collecting git+https://github.com/deepset-ai/haystack.git\r\n",
      "  Cloning https://github.com/deepset-ai/haystack.git to /tmp/pip-req-build-yakr170m\r\n",
      "  Running command git clone -q https://github.com/deepset-ai/haystack.git /tmp/pip-req-build-yakr170m\r\n",
      "  Resolved https://github.com/deepset-ai/haystack.git to commit 82448efa4f6b5669353c5afd9490154175ab8dc3\r\n",
      "  Installing build dependencies ... \u001B[?25ldone\r\n",
      "\u001B[?25h  Getting requirements to build wheel ... \u001B[?25ldone\r\n",
      "\u001B[?25h    Preparing wheel metadata ... \u001B[?25ldone\r\n",
      "\u001B[?25hCollecting transformers==4.20.1\r\n",
      "  Downloading transformers-4.20.1-py3-none-any.whl (4.4 MB)\r\n",
      "\u001B[K     |████████████████████████████████| 4.4 MB 466 kB/s eta 0:00:01\r\n",
      "\u001B[?25hCollecting torch<1.13,>1.9\r\n",
      "  Downloading torch-1.12.1-cp39-cp39-manylinux1_x86_64.whl (776.4 MB)\r\n",
      "\u001B[K     |█████▏                          | 125.1 MB 380 kB/s eta 0:28:31:32:18                              | 2.8 MB 343 kB/s eta 0:37:32     |███▎                            | 78.6 MB 282 kB/s eta 0:41:13\u001B[31mERROR: Exception:\r\n",
      "Traceback (most recent call last):\r\n",
      "  File \"/home/humza/miniconda3/lib/python3.9/site-packages/pip/_vendor/urllib3/response.py\", line 438, in _error_catcher\r\n",
      "    yield\r\n",
      "  File \"/home/humza/miniconda3/lib/python3.9/site-packages/pip/_vendor/urllib3/response.py\", line 519, in read\r\n",
      "    data = self._fp.read(amt) if not fp_closed else b\"\"\r\n",
      "  File \"/home/humza/miniconda3/lib/python3.9/site-packages/pip/_vendor/cachecontrol/filewrapper.py\", line 62, in read\r\n",
      "    data = self.__fp.read(amt)\r\n",
      "  File \"/home/humza/miniconda3/lib/python3.9/http/client.py\", line 463, in read\r\n",
      "    n = self.readinto(b)\r\n",
      "  File \"/home/humza/miniconda3/lib/python3.9/http/client.py\", line 507, in readinto\r\n",
      "    n = self.fp.readinto(b)\r\n",
      "  File \"/home/humza/miniconda3/lib/python3.9/socket.py\", line 704, in readinto\r\n",
      "    return self._sock.recv_into(b)\r\n",
      "  File \"/home/humza/miniconda3/lib/python3.9/ssl.py\", line 1241, in recv_into\r\n",
      "    return self.read(nbytes, buffer)\r\n",
      "  File \"/home/humza/miniconda3/lib/python3.9/ssl.py\", line 1099, in read\r\n",
      "    return self._sslobj.read(len, buffer)\r\n",
      "socket.timeout: The read operation timed out\r\n",
      "\r\n",
      "During handling of the above exception, another exception occurred:\r\n",
      "\r\n",
      "Traceback (most recent call last):\r\n",
      "  File \"/home/humza/miniconda3/lib/python3.9/site-packages/pip/_internal/cli/base_command.py\", line 173, in _main\r\n",
      "    status = self.run(options, args)\r\n",
      "  File \"/home/humza/miniconda3/lib/python3.9/site-packages/pip/_internal/cli/req_command.py\", line 203, in wrapper\r\n",
      "    return func(self, options, args)\r\n",
      "  File \"/home/humza/miniconda3/lib/python3.9/site-packages/pip/_internal/commands/install.py\", line 315, in run\r\n",
      "    requirement_set = resolver.resolve(\r\n",
      "  File \"/home/humza/miniconda3/lib/python3.9/site-packages/pip/_internal/resolution/resolvelib/resolver.py\", line 94, in resolve\r\n",
      "    result = self._result = resolver.resolve(\r\n",
      "  File \"/home/humza/miniconda3/lib/python3.9/site-packages/pip/_vendor/resolvelib/resolvers.py\", line 472, in resolve\r\n",
      "    state = resolution.resolve(requirements, max_rounds=max_rounds)\r\n",
      "  File \"/home/humza/miniconda3/lib/python3.9/site-packages/pip/_vendor/resolvelib/resolvers.py\", line 366, in resolve\r\n",
      "    failure_causes = self._attempt_to_pin_criterion(name)\r\n",
      "  File \"/home/humza/miniconda3/lib/python3.9/site-packages/pip/_vendor/resolvelib/resolvers.py\", line 212, in _attempt_to_pin_criterion\r\n",
      "    criteria = self._get_updated_criteria(candidate)\r\n",
      "  File \"/home/humza/miniconda3/lib/python3.9/site-packages/pip/_vendor/resolvelib/resolvers.py\", line 203, in _get_updated_criteria\r\n",
      "    self._add_to_criteria(criteria, requirement, parent=candidate)\r\n",
      "  File \"/home/humza/miniconda3/lib/python3.9/site-packages/pip/_vendor/resolvelib/resolvers.py\", line 172, in _add_to_criteria\r\n",
      "    if not criterion.candidates:\r\n",
      "  File \"/home/humza/miniconda3/lib/python3.9/site-packages/pip/_vendor/resolvelib/structs.py\", line 151, in __bool__\r\n",
      "    return bool(self._sequence)\r\n",
      "  File \"/home/humza/miniconda3/lib/python3.9/site-packages/pip/_internal/resolution/resolvelib/found_candidates.py\", line 140, in __bool__\r\n",
      "    return any(self)\r\n",
      "  File \"/home/humza/miniconda3/lib/python3.9/site-packages/pip/_internal/resolution/resolvelib/found_candidates.py\", line 128, in <genexpr>\r\n",
      "    return (c for c in iterator if id(c) not in self._incompatible_ids)\r\n",
      "  File \"/home/humza/miniconda3/lib/python3.9/site-packages/pip/_internal/resolution/resolvelib/found_candidates.py\", line 32, in _iter_built\r\n",
      "    candidate = func()\r\n",
      "  File \"/home/humza/miniconda3/lib/python3.9/site-packages/pip/_internal/resolution/resolvelib/factory.py\", line 204, in _make_candidate_from_link\r\n",
      "    self._link_candidate_cache[link] = LinkCandidate(\r\n",
      "  File \"/home/humza/miniconda3/lib/python3.9/site-packages/pip/_internal/resolution/resolvelib/candidates.py\", line 295, in __init__\r\n",
      "    super().__init__(\r\n",
      "  File \"/home/humza/miniconda3/lib/python3.9/site-packages/pip/_internal/resolution/resolvelib/candidates.py\", line 156, in __init__\r\n",
      "    self.dist = self._prepare()\r\n",
      "  File \"/home/humza/miniconda3/lib/python3.9/site-packages/pip/_internal/resolution/resolvelib/candidates.py\", line 227, in _prepare\r\n",
      "    dist = self._prepare_distribution()\r\n",
      "  File \"/home/humza/miniconda3/lib/python3.9/site-packages/pip/_internal/resolution/resolvelib/candidates.py\", line 305, in _prepare_distribution\r\n",
      "    return self._factory.preparer.prepare_linked_requirement(\r\n",
      "  File \"/home/humza/miniconda3/lib/python3.9/site-packages/pip/_internal/operations/prepare.py\", line 508, in prepare_linked_requirement\r\n",
      "    return self._prepare_linked_requirement(req, parallel_builds)\r\n",
      "  File \"/home/humza/miniconda3/lib/python3.9/site-packages/pip/_internal/operations/prepare.py\", line 550, in _prepare_linked_requirement\r\n",
      "    local_file = unpack_url(\r\n",
      "  File \"/home/humza/miniconda3/lib/python3.9/site-packages/pip/_internal/operations/prepare.py\", line 239, in unpack_url\r\n",
      "    file = get_http_url(\r\n",
      "  File \"/home/humza/miniconda3/lib/python3.9/site-packages/pip/_internal/operations/prepare.py\", line 102, in get_http_url\r\n",
      "    from_path, content_type = download(link, temp_dir.path)\r\n",
      "  File \"/home/humza/miniconda3/lib/python3.9/site-packages/pip/_internal/network/download.py\", line 145, in __call__\r\n",
      "    for chunk in chunks:\r\n",
      "  File \"/home/humza/miniconda3/lib/python3.9/site-packages/pip/_internal/cli/progress_bars.py\", line 144, in iter\r\n",
      "    for x in it:\r\n",
      "  File \"/home/humza/miniconda3/lib/python3.9/site-packages/pip/_internal/network/utils.py\", line 63, in response_chunks\r\n",
      "    for chunk in response.raw.stream(\r\n",
      "  File \"/home/humza/miniconda3/lib/python3.9/site-packages/pip/_vendor/urllib3/response.py\", line 576, in stream\r\n",
      "    data = self.read(amt=amt, decode_content=decode_content)\r\n",
      "  File \"/home/humza/miniconda3/lib/python3.9/site-packages/pip/_vendor/urllib3/response.py\", line 541, in read\r\n",
      "    raise IncompleteRead(self._fp_bytes_read, self.length_remaining)\r\n",
      "  File \"/home/humza/miniconda3/lib/python3.9/contextlib.py\", line 137, in __exit__\r\n",
      "    self.gen.throw(typ, value, traceback)\r\n",
      "  File \"/home/humza/miniconda3/lib/python3.9/site-packages/pip/_vendor/urllib3/response.py\", line 443, in _error_catcher\r\n",
      "    raise ReadTimeoutError(self._pool, None, \"Read timed out.\")\r\n",
      "pip._vendor.urllib3.exceptions.ReadTimeoutError: HTTPSConnectionPool(host='files.pythonhosted.org', port=443): Read timed out.\u001B[0m\r\n"
     ]
    }
   ],
   "source": [
    "!pip install git+https://github.com/deepset-ai/haystack.git"
   ]
  },
  {
   "cell_type": "code",
   "execution_count": null,
   "outputs": [
    {
     "name": "stdout",
     "output_type": "stream",
     "text": [
      "Will not apply HSTS. The HSTS database must be a regular and non-world-writable file.\r\n",
      "ERROR: could not open HSTS store at '/home/humza/.wget-hsts'. HSTS will be disabled.\r\n",
      "--2022-08-08 20:51:28--  https://dl.xpdfreader.com/xpdf-tools-linux-4.04.tar.gz\r\n",
      "Resolving dl.xpdfreader.com (dl.xpdfreader.com)... 45.79.72.155\r\n",
      "Connecting to dl.xpdfreader.com (dl.xpdfreader.com)|45.79.72.155|:443... connected.\r\n",
      "HTTP request sent, awaiting response... 200 OK\r\n",
      "Length: 23687259 (23M) [application/x-gzip]\r\n",
      "Saving to: ‘xpdf-tools-linux-4.04.tar.gz’\r\n",
      "\r\n",
      "xpdf-tools-linux-4. 100%[===================>]  22.59M   300KB/s    in 2m 19s  \r\n",
      "\r\n",
      "2022-08-08 20:53:49 (167 KB/s) - ‘xpdf-tools-linux-4.04.tar.gz’ saved [23687259/23687259]\r\n",
      "\r\n",
      "xpdf-tools-linux-4.04/\r\n",
      "xpdf-tools-linux-4.04/CHANGES\r\n",
      "xpdf-tools-linux-4.04/COPYING3\r\n",
      "xpdf-tools-linux-4.04/INSTALL\r\n",
      "xpdf-tools-linux-4.04/ANNOUNCE\r\n",
      "xpdf-tools-linux-4.04/bin64/\r\n",
      "xpdf-tools-linux-4.04/bin64/pdftopng\r\n",
      "xpdf-tools-linux-4.04/bin64/pdftohtml\r\n",
      "xpdf-tools-linux-4.04/bin64/pdfinfo\r\n",
      "xpdf-tools-linux-4.04/bin64/pdffonts\r\n",
      "xpdf-tools-linux-4.04/bin64/pdfimages\r\n",
      "xpdf-tools-linux-4.04/bin64/pdftotext\r\n",
      "xpdf-tools-linux-4.04/bin64/pdftoppm\r\n",
      "xpdf-tools-linux-4.04/bin64/pdftops\r\n",
      "xpdf-tools-linux-4.04/bin64/pdfdetach\r\n",
      "xpdf-tools-linux-4.04/README\r\n",
      "xpdf-tools-linux-4.04/COPYING\r\n",
      "xpdf-tools-linux-4.04/doc/\r\n",
      "xpdf-tools-linux-4.04/doc/pdftohtml.1\r\n",
      "xpdf-tools-linux-4.04/doc/pdftops.1\r\n",
      "xpdf-tools-linux-4.04/doc/pdfimages.1\r\n",
      "xpdf-tools-linux-4.04/doc/sample-xpdfrc\r\n",
      "xpdf-tools-linux-4.04/doc/pdffonts.1\r\n",
      "xpdf-tools-linux-4.04/doc/pdfdetach.1\r\n",
      "xpdf-tools-linux-4.04/doc/pdftoppm.1\r\n",
      "xpdf-tools-linux-4.04/doc/pdftotext.1\r\n",
      "xpdf-tools-linux-4.04/doc/pdftopng.1\r\n",
      "xpdf-tools-linux-4.04/doc/xpdfrc.5\r\n",
      "xpdf-tools-linux-4.04/doc/pdfinfo.1\r\n",
      "xpdf-tools-linux-4.04/bin32/\r\n",
      "xpdf-tools-linux-4.04/bin32/pdftopng\r\n",
      "xpdf-tools-linux-4.04/bin32/pdftohtml\r\n",
      "xpdf-tools-linux-4.04/bin32/pdfinfo\r\n",
      "xpdf-tools-linux-4.04/bin32/pdffonts\r\n",
      "xpdf-tools-linux-4.04/bin32/pdfimages\r\n",
      "xpdf-tools-linux-4.04/bin32/pdftotext\r\n",
      "xpdf-tools-linux-4.04/bin32/pdftoppm\r\n",
      "xpdf-tools-linux-4.04/bin32/pdftops\r\n",
      "xpdf-tools-linux-4.04/bin32/pdfdetach\r\n",
      "[sudo] password for humza: "
     ]
    }
   ],
   "source": [
    "!wget --no-check-certificate https://dl.xpdfreader.com/xpdf-tools-linux-4.04.tar.gz\n",
    "!tar -xvf xpdf-tools-linux-4.04.tar.gz && sudo cp xpdf-tools-linux-4.04/bin64/pdftotext /usr/local/bin\n"
   ],
   "metadata": {
    "collapsed": false,
    "pycharm": {
     "name": "#%%\n",
     "is_executing": true
    }
   }
  },
  {
   "cell_type": "code",
   "execution_count": null,
   "outputs": [],
   "source": [],
   "metadata": {
    "collapsed": false,
    "pycharm": {
     "name": "#%%\n"
    }
   }
  }
 ],
 "metadata": {
  "kernelspec": {
   "display_name": "Python 3",
   "language": "python",
   "name": "python3"
  },
  "language_info": {
   "codemirror_mode": {
    "name": "ipython",
    "version": 2
   },
   "file_extension": ".py",
   "mimetype": "text/x-python",
   "name": "python",
   "nbconvert_exporter": "python",
   "pygments_lexer": "ipython2",
   "version": "2.7.6"
  }
 },
 "nbformat": 4,
 "nbformat_minor": 0
}