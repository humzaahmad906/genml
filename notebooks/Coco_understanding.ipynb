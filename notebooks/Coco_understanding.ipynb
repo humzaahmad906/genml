{
 "cells": [
  {
   "cell_type": "code",
   "execution_count": 2,
   "metadata": {},
   "outputs": [],
   "source": [
    "import pycocotools"
   ]
  },
  {
   "cell_type": "code",
   "execution_count": 4,
   "metadata": {},
   "outputs": [],
   "source": [
    "from pycocotools.coco import COCO"
   ]
  },
  {
   "cell_type": "code",
   "execution_count": 8,
   "metadata": {},
   "outputs": [
    {
     "ename": "TypeError",
     "evalue": "annToMask() missing 1 required positional argument: 'ann'",
     "output_type": "error",
     "traceback": [
      "\u001B[0;31m---------------------------------------------------------------------------\u001B[0m",
      "\u001B[0;31mTypeError\u001B[0m                                 Traceback (most recent call last)",
      "\u001B[0;32m<ipython-input-8-a4e235371cbd>\u001B[0m in \u001B[0;36m<module>\u001B[0;34m\u001B[0m\n\u001B[0;32m----> 1\u001B[0;31m \u001B[0mCOCO\u001B[0m\u001B[0;34m(\u001B[0m\u001B[0;34m)\u001B[0m\u001B[0;34m.\u001B[0m\u001B[0mannToMask\u001B[0m\u001B[0;34m(\u001B[0m\u001B[0;34m)\u001B[0m\u001B[0;34m\u001B[0m\u001B[0;34m\u001B[0m\u001B[0m\n\u001B[0m",
      "\u001B[0;31mTypeError\u001B[0m: annToMask() missing 1 required positional argument: 'ann'"
     ]
    }
   ],
   "source": [
    "COCO().annToMask()"
   ]
  },
  {
   "cell_type": "code",
   "execution_count": 1,
   "metadata": {},
   "outputs": [],
   "source": [
    "json_annotations = {\n",
    "    \"info\": {},\n",
    "    \"licenses\": [],\n",
    "    \"images\": [],\n",
    "    \"annotations\": [],\n",
    "    \"categories\": [],\n",
    "    \"segment_info\": []\n",
    "}"
   ]
  },
  {
   "cell_type": "code",
   "execution_count": 2,
   "metadata": {},
   "outputs": [],
   "source": [
    "info = {\n",
    "    \"description\": \"COCO 2017 Dataset\",\n",
    "    \"url\": \"http://cocodataset.org\",\n",
    "    \"version\": \"1.0\",\n",
    "    \"year\": 2017,\n",
    "    \"contributor\": \"COCO Consortium\",\n",
    "    \"date_created\": \"2017/09/01\"\n",
    "}"
   ]
  },
  {
   "cell_type": "code",
   "execution_count": 3,
   "metadata": {},
   "outputs": [],
   "source": [
    "licenses = [\n",
    "    {\n",
    "        \"url\": \"http://creativecommons.org/licenses/by-nc-sa/2.0/\",\n",
    "        \"id\": 1,\n",
    "        \"name\": \"Attribution-NonCommercial-ShareAlike License\"\n",
    "    },\n",
    "    {\n",
    "        \"url\": \"http://creativecommons.org/licenses/by-nc/2.0/\",\n",
    "        \"id\": 2,\n",
    "        \"name\": \"Attribution-NonCommercial License\"\n",
    "    },\n",
    "]"
   ]
  },
  {
   "cell_type": "code",
   "execution_count": 4,
   "metadata": {},
   "outputs": [],
   "source": [
    "images = [\n",
    "    {\n",
    "        \"license\": 4,\n",
    "        \"file_name\": \"000000397133.jpg\",\n",
    "        \"coco_url\": \"http://images.cocodataset.org/val2017/000000397133.jpg\",\n",
    "        \"height\": 427,\n",
    "        \"width\": 640,\n",
    "        \"date_captured\": \"2013-11-14 17:02:52\",\n",
    "        \"flickr_url\": \"http://farm7.staticflickr.com/6116/6255196340_da26cf2c9e_z.jpg\",\n",
    "        \"id\": 397133\n",
    "    },\n",
    "    {\n",
    "        \"license\": 1,\n",
    "        \"file_name\": \"000000037777.jpg\",\n",
    "        \"coco_url\": \"http://images.cocodataset.org/val2017/000000037777.jpg\",\n",
    "        \"height\": 230,\n",
    "        \"width\": 352,\n",
    "        \"date_captured\": \"2013-11-14 20:55:31\",\n",
    "        \"flickr_url\": \"http://farm9.staticflickr.com/8429/7839199426_f6d48aa585_z.jpg\",\n",
    "        \"id\": 37777\n",
    "    },\n",
    "]"
   ]
  },
  {
   "cell_type": "code",
   "execution_count": 5,
   "metadata": {},
   "outputs": [],
   "source": [
    "categories = [\n",
    "    {\"supercategory\": \"person\",\"id\": 1,\"name\": \"person\"},\n",
    "    {\"supercategory\": \"vehicle\",\"id\": 2,\"name\": \"bicycle\"},\n",
    "    {\"supercategory\": \"vehicle\",\"id\": 3,\"name\": \"car\"},\n",
    "    {\"supercategory\": \"vehicle\",\"id\": 4,\"name\": \"motorcycle\"},\n",
    "    {\"supercategory\": \"vehicle\",\"id\": 5,\"name\": \"airplane\"},\n",
    "    {\"supercategory\": \"indoor\",\"id\": 89,\"name\": \"hair drier\"},\n",
    "    {\"supercategory\": \"indoor\",\"id\": 90,\"name\": \"toothbrush\"}\n",
    "]"
   ]
  },
  {
   "cell_type": "markdown",
   "metadata": {},
   "source": [
    "# For isCrowd==1: Conversion from mask to RLE"
   ]
  },
  {
   "cell_type": "code",
   "execution_count": 6,
   "metadata": {},
   "outputs": [],
   "source": [
    "import numpy as np\n",
    "from itertools import groupby\n",
    "\n",
    "def binary_mask_to_rle(binary_mask):\n",
    "    rle = {'counts': [], 'size': list(binary_mask.shape)}\n",
    "    counts = rle.get('counts')\n",
    "    for i, (value, elements) in enumerate(groupby(binary_mask.ravel(order='F'))):\n",
    "        if i == 0 and value == 1:\n",
    "            counts.append(0)\n",
    "        counts.append(len(list(elements)))\n",
    "    return rle"
   ]
  },
  {
   "cell_type": "code",
   "execution_count": 10,
   "metadata": {},
   "outputs": [],
   "source": [
    "import json\n",
    "import numpy as np\n",
    "from pycocotools import mask\n",
    "from skimage import measure\n",
    "\n",
    "ground_truth_binary_mask = np.array([[  0,   0,   0,   0,   0,   0,   0,   0,   0,   0],\n",
    "                                     [  0,   0,   0,   0,   0,   0,   0,   0,   0,   0],\n",
    "                                     [  0,   0,   0,   0,   0,   1,   1,   1,   0,   0],\n",
    "                                     [  0,   0,   0,   0,   0,   1,   1,   1,   0,   0],\n",
    "                                     [  0,   0,   0,   0,   0,   1,   1,   1,   0,   0],\n",
    "                                     [  0,   0,   0,   0,   0,   1,   1,   1,   0,   0],\n",
    "                                     [  0,   0,   0,   0,   0,   1,   0,   1,   0,   0],\n",
    "                                     [  1,   0,   0,   0,   0,   0,   0,   0,   0,   0],\n",
    "                                     [  0,   0,   0,   0,   0,   0,   0,   0,   0,   0],\n",
    "                                     [  0,   0,   0,   0,   0,   0,   0,   0,   0,   0]], dtype=np.uint8)\n",
    "\n",
    "fortran_ground_truth_binary_mask = np.asfortranarray(ground_truth_binary_mask)"
   ]
  },
  {
   "cell_type": "code",
   "execution_count": 11,
   "metadata": {},
   "outputs": [
    {
     "name": "stdout",
     "output_type": "stream",
     "text": [
      "{'counts': [7, 1, 44, 5, 5, 4, 6, 5, 23], 'size': [10, 10]}\n"
     ]
    }
   ],
   "source": [
    "rle = binary_mask_to_rle(fortran_ground_truth_binary_mask)\n",
    "print(rle)"
   ]
  },
  {
   "cell_type": "code",
   "execution_count": 12,
   "metadata": {},
   "outputs": [
    {
     "data": {
      "text/plain": [
       "array([[0, 0, 0, 0, 0, 0, 0, 0, 0, 0],\n",
       "       [0, 0, 0, 0, 0, 0, 0, 0, 0, 0],\n",
       "       [0, 0, 0, 0, 0, 1, 1, 1, 0, 0],\n",
       "       [0, 0, 0, 0, 0, 1, 1, 1, 0, 0],\n",
       "       [0, 0, 0, 0, 0, 1, 1, 1, 0, 0],\n",
       "       [0, 0, 0, 0, 0, 1, 1, 1, 0, 0],\n",
       "       [0, 0, 0, 0, 0, 1, 0, 1, 0, 0],\n",
       "       [1, 0, 0, 0, 0, 0, 0, 0, 0, 0],\n",
       "       [0, 0, 0, 0, 0, 0, 0, 0, 0, 0],\n",
       "       [0, 0, 0, 0, 0, 0, 0, 0, 0, 0]], dtype=uint8)"
      ]
     },
     "execution_count": 12,
     "metadata": {},
     "output_type": "execute_result"
    }
   ],
   "source": [
    "compressed_rle = mask.frPyObjects(rle, rle.get('size')[0], rle.get('size')[1])\n",
    "mask.decode(compressed_rle)"
   ]
  },
  {
   "cell_type": "code",
   "execution_count": null,
   "metadata": {},
   "outputs": [],
   "source": []
  }
 ],
 "metadata": {
  "kernelspec": {
   "display_name": "Python 3",
   "language": "python",
   "name": "python3"
  },
  "language_info": {
   "codemirror_mode": {
    "name": "ipython",
    "version": 3
   },
   "file_extension": ".py",
   "mimetype": "text/x-python",
   "name": "python",
   "nbconvert_exporter": "python",
   "pygments_lexer": "ipython3",
   "version": "3.8.3"
  }
 },
 "nbformat": 4,
 "nbformat_minor": 4
}